{
 "cells": [
  {
   "cell_type": "code",
   "execution_count": null,
   "id": "velvet-humor",
   "metadata": {},
   "outputs": [],
   "source": [
    "!pip install textstat"
   ]
  },
  {
   "cell_type": "code",
   "execution_count": null,
   "id": "starting-messenger",
   "metadata": {},
   "outputs": [],
   "source": [
    "#Loading libraries\n",
    "\n",
    "import numpy as np\n",
    "import pandas as pd\n",
    "import matplotlib.pyplot as plt\n",
    "%matplotlib inline\n",
    "import seaborn as sns\n",
    "plt.style.use('ggplot')\n",
    "\n",
    "from scipy.stats import norm\n",
    "from sklearn.preprocessing import StandardScaler\n",
    "from scipy import stats\n",
    "\n",
    "import warnings\n",
    "warnings.filterwarnings('ignore')\n",
    "\n",
    "#for displaying 500 results in pandas dataframe\n",
    "pd.set_option('display.max_rows', 500)\n",
    "pd.set_option('display.max_columns', 500)\n",
    "pd.set_option('display.width', 1000)\n",
    "\n",
    "\n",
    "import re\n",
    "import gensim\n",
    "from keras.preprocessing.text import Tokenizer\n",
    "from keras.preprocessing.sequence import pad_sequences\n",
    "from tqdm import tqdm\n",
    "from keras.models import Sequential\n",
    "from keras.layers import Embedding,LSTM,Dense,SpatialDropout1D\n",
    "from keras.initializers import Constant\n",
    "from sklearn.model_selection import train_test_split\n",
    "from keras.optimizers import Adam\n",
    "\n",
    "import nltk\n",
    "from nltk.stem import WordNetLemmatizer,PorterStemmer\n",
    "from nltk.corpus import stopwords\n",
    "from collections import defaultdict,Counter\n",
    "from nltk.corpus import stopwords\n",
    "from sklearn.feature_extraction.text import CountVectorizer\n",
    "from wordcloud import WordCloud, STOPWORDS, ImageColorGenerator\n",
    "from PIL import Image\n",
    "from nltk.tokenize import word_tokenize\n",
    "from nltk.util import ngrams\n",
    "import string\n",
    "nltk.download('stopwords')\n",
    "\n",
    "\n",
    "stop=set(stopwords.words('english'))\n",
    "plt.style.use('seaborn')\n",
    "\n",
    "\n",
    "from plotly import tools\n",
    "import plotly.offline as py\n",
    "import plotly.figure_factory as ff\n",
    "py.init_notebook_mode(connected=True)\n",
    "import plotly.graph_objs as go\n",
    "import textstat\n",
    "from textblob import TextBlob \n",
    "from tqdm import tqdm\n",
    "from statistics import *\n",
    "import plotly.express as px\n",
    "from plotly.subplots import make_subplots\n",
    "import plotly.graph_objects as go"
   ]
  },
  {
   "cell_type": "code",
   "execution_count": null,
   "id": "authentic-western",
   "metadata": {},
   "outputs": [],
   "source": [
    "train=pd.read_csv(\"/datalab/Corona_NLP_train.csv\",encoding='latin1')\n",
    "test=pd.read_csv(\"/datalab/Corona_NLP_test.csv\",encoding='latin1')\n",
    "\n",
    "\n",
    "\n",
    "df=pd.concat([train,test])\n",
    "df['OriginalTweet']=df['OriginalTweet'].astype(str)\n",
    "df['Sentiment']=df['Sentiment'].astype(str)\n",
    "\n",
    "train['OriginalTweet']=train['OriginalTweet'].astype(str)\n",
    "train['Sentiment']=train['Sentiment'].astype(str)\n",
    "\n",
    "test['OriginalTweet']=test['OriginalTweet'].astype(str)\n",
    "test['Sentiment']=test['Sentiment'].astype(str)\n",
    "df.head()"
   ]
  },
  {
   "cell_type": "code",
   "execution_count": null,
   "id": "white-rolling",
   "metadata": {},
   "outputs": [],
   "source": [
    "print('Training Set Shape = {}'.format(train.shape))\n",
    "print('Training Set Memory Usage = {:.2f} MB'.format(train.memory_usage().sum() / 1024**2))\n",
    "print('Test Set Shape = {}'.format(test.shape))\n",
    "print('Test Set Memory Usage = {:.2f} MB'.format(test.memory_usage().sum() / 1024**2))\n",
    "print(\"\\n\")\n",
    "print(train.head())\n",
    "print(\"\\n\")\n",
    "print(train.info())"
   ]
  },
  {
   "cell_type": "code",
   "execution_count": null,
   "id": "satisfactory-plasma",
   "metadata": {},
   "outputs": [],
   "source": [
    "# Drop duplicates\n",
    "train.drop_duplicates()\n",
    "print(\" Shape of dataframe after dropping duplicates: \", df.shape)"
   ]
  },
  {
   "cell_type": "code",
   "execution_count": null,
   "id": "dense-shuttle",
   "metadata": {},
   "outputs": [],
   "source": [
    "#Null values\n",
    "\n",
    "null= df.isnull().sum().sort_values(ascending=False)\n",
    "total =df.shape[0]\n",
    "percent_missing= (df.isnull().sum()/total).sort_values(ascending=False)\n",
    "\n",
    "missing_data= pd.concat([null, percent_missing], axis=1, keys=['Total missing', 'Percent missing'])\n",
    "\n",
    "missing_data.reset_index(inplace=True)\n",
    "missing_data= missing_data.rename(columns= { \"index\": \" column name\"})\n",
    " \n",
    "print (\"Null Values in each column:\\n\", missing_data)"
   ]
  },
  {
   "cell_type": "code",
   "execution_count": null,
   "id": "ancient-mustang",
   "metadata": {},
   "outputs": [],
   "source": [
    "#Missing data as white lines \n",
    "import missingno as msno\n",
    "msno.matrix(df,color=(0.3,0.36,0.44))"
   ]
  },
  {
   "cell_type": "code",
   "execution_count": null,
   "id": "devoted-delta",
   "metadata": {},
   "outputs": [],
   "source": [
    "print('Total tweets in this data: {}'.format(df.shape[0]))\n",
    "print('Total Unique Users in this data: {}'.format(df['UserName'].nunique()))"
   ]
  },
  {
   "cell_type": "code",
   "execution_count": null,
   "id": "developing-adolescent",
   "metadata": {},
   "outputs": [],
   "source": [
    "print(df.Sentiment.unique())\n",
    "print(df.Sentiment.value_counts())"
   ]
  },
  {
   "cell_type": "code",
   "execution_count": null,
   "id": "double-sandwich",
   "metadata": {},
   "outputs": [],
   "source": [
    "# We will copy the text in another column so that the original text is also there for comparison\n",
    "\n",
    "df['text'] = df.OriginalTweet\n",
    "df[\"text\"] = df[\"text\"].astype(str)\n",
    "\n",
    "train['text'] = train.OriginalTweet\n",
    "train[\"text\"] = train[\"text\"].astype(str)\n",
    "\n",
    "test['text'] = test.OriginalTweet\n",
    "test[\"text\"] = test[\"text\"].astype(str)\n",
    "\n",
    "# Data has 5 classes, let's convert them to 3\n",
    "\n",
    "def classes_def(x):\n",
    "    if x ==  \"Extremely Positive\":\n",
    "        return \"positive\"\n",
    "    elif x == \"Extremely Negative\":\n",
    "        return \"negative\"\n",
    "    elif x == \"Negative\":\n",
    "        return \"negative\"\n",
    "    elif x ==  \"Positive\":\n",
    "        return \"positive\"\n",
    "    else:\n",
    "        return \"neutral\"\n",
    "    \n",
    "df['sentiment']=df['Sentiment'].apply(lambda x:classes_def(x))\n",
    "train['sentiment']=train['Sentiment'].apply(lambda x:classes_def(x))\n",
    "test['sentiment']=test['Sentiment'].apply(lambda x:classes_def(x))\n",
    "target=df['sentiment']\n",
    "\n",
    "df.sentiment.value_counts(normalize= True)"
   ]
  }
 ],
 "metadata": {
  "kernelspec": {
   "display_name": "Python 3",
   "language": "python",
   "name": "python3"
  },
  "language_info": {
   "codemirror_mode": {
    "name": "ipython",
    "version": 3
   },
   "file_extension": ".py",
   "mimetype": "text/x-python",
   "name": "python",
   "nbconvert_exporter": "python",
   "pygments_lexer": "ipython3",
   "version": "3.8.7"
  }
 },
 "nbformat": 4,
 "nbformat_minor": 5
}
