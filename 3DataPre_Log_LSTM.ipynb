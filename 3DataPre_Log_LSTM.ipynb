{
 "cells": [
  {
   "cell_type": "code",
   "execution_count": null,
   "id": "english-change",
   "metadata": {},
   "outputs": [],
   "source": [
    "import os\n",
    "import pandas as pd\n",
    "import numpy as np\n",
    "import matplotlib.pyplot as plt\n",
    "%matplotlib inline\n",
    "import seaborn as sns"
   ]
  },
  {
   "cell_type": "code",
   "execution_count": null,
   "id": "occupied-stress",
   "metadata": {},
   "outputs": [],
   "source": [
    "train = '/datalab/Corona_NLP_train.csv'\n",
    "test = '/datalab/Corona_NLP_test.csv'\n",
    "\n",
    "trainOriginal = pd.read_csv(train, encoding='latin1')\n",
    "testOriginal = pd.read_csv(test, encoding='latin1')\n",
    "\n",
    "train = trainOriginal.copy()\n",
    "test = testOriginal.copy()\n",
    "covid = pd.concat([train, test])\n",
    "covid.reset_index(drop=True, inplace=True)\n"
   ]
  },
  {
   "cell_type": "code",
   "execution_count": null,
   "id": "outstanding-bloom",
   "metadata": {},
   "outputs": [],
   "source": [
    "covid['Sentiment'] = covid['Sentiment'].str.replace('Extremely Positive', 'Positive')\n",
    "covid['Sentiment'] = covid['Sentiment'].str.replace('Extremely Negative', 'Negative')\n",
    "covid = covid.drop('ScreenName', axis=1)\n",
    "covid = covid.drop('UserName', axis=1)\n"
   ]
  },
  {
   "cell_type": "code",
   "execution_count": null,
   "id": "informative-building",
   "metadata": {},
   "outputs": [],
   "source": [
    "\n",
    "train['Identity'] = 0\n",
    "test['Identity'] = 1 \n",
    "covid = pd.concat([train, test])\n",
    "covid.reset_index(drop=True, inplace=True)\n",
    "covid"
   ]
  },
  {
   "cell_type": "code",
   "execution_count": null,
   "id": "charitable-robin",
   "metadata": {},
   "outputs": [],
   "source": [
    "covid['Sentiment'] = covid['Sentiment'].str.replace('Extremely Positive', 'Positive')\n",
    "covid['Sentiment'] = covid['Sentiment'].str.replace('Extremely Negative', 'Negative')\n",
    "covid['Sentiment'] = covid['Sentiment'].map({'Neutral':0, 'Positive':1, 'Negative':2})"
   ]
  },
  {
   "cell_type": "code",
   "execution_count": null,
   "id": "round-ancient",
   "metadata": {},
   "outputs": [],
   "source": [
    "import re\n",
    "\n",
    "def clean(text):\n",
    "    text = re.sub(r'http\\S+', \" \", text)\n",
    "    text = re.sub(r'@\\w+',' ',text)\n",
    "    text = re.sub(r'#\\w+', ' ', text)\n",
    "    text = re.sub(r'\\d+', ' ', text)\n",
    "    text = re.sub('r<.*?>',' ', text)\n",
    "    text = text.split()\n",
    "    text = \" \".join([word for word in text if not word in stopWord])\n",
    "    \n",
    "    return text"
   ]
  },
  {
   "cell_type": "code",
   "execution_count": null,
   "id": "vital-innocent",
   "metadata": {},
   "outputs": [],
   "source": [
    "#train['Location'].value_counts()[:60]\n",
    "import nltk\n",
    "nltk.download('stopwords')\n",
    "from nltk.corpus import stopwords\n",
    "stopWord = stopwords.words('english')\n",
    "covid['OriginalTweet'] = covid['OriginalTweet'].apply(lambda x: clean(x))\n",
    "\n",
    "#covid.head()"
   ]
  },
  {
   "cell_type": "code",
   "execution_count": null,
   "id": "described-density",
   "metadata": {},
   "outputs": [],
   "source": [
    "covid = covid[['OriginalTweet','Sentiment','Identity']]\n",
    "#covid.head()"
   ]
  },
  {
   "cell_type": "code",
   "execution_count": null,
   "id": "difficult-projector",
   "metadata": {},
   "outputs": [],
   "source": [
    "from nltk.stem.porter import PorterStemmer\n",
    "from nltk.stem import WordNetLemmatizer\n",
    "from nltk.tokenize import word_tokenize,sent_tokenize\n",
    "from sklearn.feature_extraction.text import CountVectorizer\n",
    "from sklearn.model_selection import train_test_split, cross_val_score\n",
    "from sklearn.linear_model import LogisticRegression\n",
    "from sklearn.metrics import classification_report\n",
    "from sklearn.model_selection import GridSearchCV"
   ]
  },
  {
   "cell_type": "code",
   "execution_count": null,
   "id": "registered-result",
   "metadata": {},
   "outputs": [],
   "source": [
    "import nltk\n",
    "nltk.download('punkt')"
   ]
  },
  {
   "cell_type": "code",
   "execution_count": null,
   "id": "demographic-spirituality",
   "metadata": {},
   "outputs": [],
   "source": [
    "import nltk\n",
    "nltk.download('wordnet')"
   ]
  },
  {
   "cell_type": "code",
   "execution_count": null,
   "id": "generic-tutorial",
   "metadata": {},
   "outputs": [],
   "source": [
    "covid['Corpus'] = [nltk.word_tokenize(text) for text in covid.OriginalTweet]\n",
    "lemma = nltk.WordNetLemmatizer()\n",
    "covid.Corpus = covid.apply(lambda x: [lemma.lemmatize(word) for word in x.Corpus], axis=1)\n",
    "covid.Corpus = covid.apply(lambda x: \" \".join(x.Corpus),axis=1)"
   ]
  },
  {
   "cell_type": "code",
   "execution_count": null,
   "id": "built-stability",
   "metadata": {},
   "outputs": [],
   "source": [
    "train = covid[covid.Identity==0]\n",
    "test = covid[covid.Identity==1]\n",
    "train.drop('Identity',axis=1, inplace=True)\n",
    "test.drop('Identity',axis=1, inplace=True)\n",
    "test.reset_index(drop=True,inplace=True)"
   ]
  },
  {
   "cell_type": "code",
   "execution_count": null,
   "id": "destroyed-remains",
   "metadata": {},
   "outputs": [],
   "source": [
    "XTrain = train.Corpus\n",
    "yTrain = train.Sentiment\n",
    "\n",
    "XTest = test.Corpus\n",
    "yTest = test.Sentiment\n",
    "\n",
    "XTrain, XVal, yTrain, yVal = train_test_split(XTrain, yTrain, test_size=0.2,random_state=42)\n",
    "\n",
    "XTrain.shape, XVal.shape, yTrain.shape, yVal.shape, XTest.shape, yTest.shape\n"
   ]
  },
  {
   "cell_type": "code",
   "execution_count": null,
   "id": "cathedral-illinois",
   "metadata": {},
   "outputs": [],
   "source": [
    "vectorizer = CountVectorizer(stop_words='english',ngram_range=(1,2),min_df=5).fit(covid.Corpus)\n",
    "\n",
    "XTrainVec = vectorizer.transform(XTrain)\n",
    "XValVec = vectorizer.transform(XVal)\n",
    "XTestVec = vectorizer.transform(XTest)"
   ]
  }
 ],
 "metadata": {
  "kernelspec": {
   "display_name": "Python 3",
   "language": "python",
   "name": "python3"
  },
  "language_info": {
   "codemirror_mode": {
    "name": "ipython",
    "version": 3
   },
   "file_extension": ".py",
   "mimetype": "text/x-python",
   "name": "python",
   "nbconvert_exporter": "python",
   "pygments_lexer": "ipython3",
   "version": "3.8.7"
  }
 },
 "nbformat": 4,
 "nbformat_minor": 5
}
